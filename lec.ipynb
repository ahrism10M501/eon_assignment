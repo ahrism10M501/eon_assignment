{
 "cells": [
  {
   "cell_type": "code",
   "execution_count": 3,
   "id": "d6f864f9",
   "metadata": {},
   "outputs": [
    {
     "name": "stdout",
     "output_type": "stream",
     "text": [
      "helo\n"
     ]
    }
   ],
   "source": [
    "print(\"helo\")"
   ]
  },
  {
   "cell_type": "markdown",
   "id": "350222ea",
   "metadata": {},
   "source": [
    "# 파이썬 기초\n",
    "\n",
    "파이썬의 기초를 배우자."
   ]
  },
  {
   "cell_type": "code",
   "execution_count": 4,
   "id": "729745d1",
   "metadata": {},
   "outputs": [
    {
     "name": "stdout",
     "output_type": "stream",
     "text": [
      "100\n"
     ]
    }
   ],
   "source": [
    "value = 100\n",
    "print(value)"
   ]
  },
  {
   "cell_type": "code",
   "execution_count": 5,
   "id": "48ad3d33",
   "metadata": {},
   "outputs": [
    {
     "name": "stdout",
     "output_type": "stream",
     "text": [
      "문자다!\n"
     ]
    }
   ],
   "source": [
    "message = \"문자다!\"\n",
    "print(message)"
   ]
  },
  {
   "cell_type": "code",
   "execution_count": 6,
   "id": "71248539",
   "metadata": {},
   "outputs": [
    {
     "name": "stdout",
     "output_type": "stream",
     "text": [
      "문자를 더 써주고  100\n"
     ]
    }
   ],
   "source": [
    "print(\"문자를 더 써주고 \", value)"
   ]
  },
  {
   "cell_type": "code",
   "execution_count": null,
   "id": "92fcdd24",
   "metadata": {},
   "outputs": [],
   "source": [
    "# f-string\n",
    "print(f\"입력 {value} 입니다.\")"
   ]
  },
  {
   "cell_type": "code",
   "execution_count": 9,
   "id": "3fd05a16",
   "metadata": {},
   "outputs": [
    {
     "name": "stdout",
     "output_type": "stream",
     "text": [
      "입력 400 입니다\n"
     ]
    }
   ],
   "source": [
    "print(f\"입력 {value*2 + 200} 입니다\")"
   ]
  },
  {
   "cell_type": "code",
   "execution_count": 10,
   "id": "cb57dfcb",
   "metadata": {},
   "outputs": [
    {
     "data": {
      "text/plain": [
       "int"
      ]
     },
     "execution_count": 10,
     "metadata": {},
     "output_type": "execute_result"
    }
   ],
   "source": [
    "type(value)"
   ]
  },
  {
   "cell_type": "code",
   "execution_count": null,
   "id": "8b6e1c3b",
   "metadata": {},
   "outputs": [
    {
     "name": "stdout",
     "output_type": "stream",
     "text": [
      "6\n"
     ]
    }
   ],
   "source": [
    "print(20 // 3)"
   ]
  },
  {
   "cell_type": "code",
   "execution_count": 12,
   "id": "ead76ac8",
   "metadata": {},
   "outputs": [
    {
     "name": "stdout",
     "output_type": "stream",
     "text": [
      "6.666666666666667\n"
     ]
    }
   ],
   "source": [
    "print(20 / 3)"
   ]
  },
  {
   "cell_type": "code",
   "execution_count": 14,
   "id": "db650757",
   "metadata": {},
   "outputs": [
    {
     "name": "stdout",
     "output_type": "stream",
     "text": [
      "6\n",
      "2\n"
     ]
    }
   ],
   "source": [
    "print(20 // 3)\n",
    "print(20 % 3)"
   ]
  },
  {
   "cell_type": "code",
   "execution_count": 16,
   "id": "510c8084",
   "metadata": {},
   "outputs": [
    {
     "name": "stdout",
     "output_type": "stream",
     "text": [
      "8\n"
     ]
    }
   ],
   "source": [
    "print(2**3)"
   ]
  },
  {
   "cell_type": "code",
   "execution_count": 20,
   "id": "49600d7a",
   "metadata": {},
   "outputs": [
    {
     "name": "stdout",
     "output_type": "stream",
     "text": [
      "저는 다민입니다.\n",
      "저는 지호입니다.\n"
     ]
    }
   ],
   "source": [
    "def hello(name = '다민'):\n",
    "    print(f\"저는 {name}입니다.\")\n",
    "    \n",
    "hello()\n",
    "hello(\"지호\")"
   ]
  },
  {
   "cell_type": "code",
   "execution_count": 2,
   "id": "86aa2242",
   "metadata": {},
   "outputs": [],
   "source": [
    "def power(num):\n",
    "    print(num**2)"
   ]
  },
  {
   "cell_type": "code",
   "execution_count": 3,
   "id": "b6ab97c1",
   "metadata": {},
   "outputs": [
    {
     "name": "stdout",
     "output_type": "stream",
     "text": [
      "25\n"
     ]
    }
   ],
   "source": [
    "power(5)"
   ]
  },
  {
   "cell_type": "code",
   "execution_count": null,
   "id": "e8ee5781",
   "metadata": {},
   "outputs": [
    {
     "name": "stdout",
     "output_type": "stream",
     "text": [
      "7\n"
     ]
    }
   ],
   "source": [
    "def adder(num1, num2):\n",
    "    print(num1 + num2)\n",
    "    \n",
    "adder(3, 4)"
   ]
  },
  {
   "cell_type": "code",
   "execution_count": null,
   "id": "27da786d",
   "metadata": {},
   "outputs": [
    {
     "name": "stdout",
     "output_type": "stream",
     "text": [
      "7\n",
      "None\n"
     ]
    }
   ],
   "source": [
    "added = adder(3, 4)\n",
    "print(added)"
   ]
  },
  {
   "cell_type": "code",
   "execution_count": null,
   "id": "92761935",
   "metadata": {},
   "outputs": [],
   "source": [
    "def adder(num1, num2):\n",
    "    added = num1 + num2\n",
    "    print(added)\n",
    "    return added"
   ]
  },
  {
   "cell_type": "code",
   "execution_count": 16,
   "id": "f4afd9ce",
   "metadata": {},
   "outputs": [
    {
     "name": "stdout",
     "output_type": "stream",
     "text": [
      "100\n"
     ]
    }
   ],
   "source": [
    "added = adder(3, 4)\n",
    "print(added)"
   ]
  },
  {
   "cell_type": "markdown",
   "id": "04d6fb77",
   "metadata": {},
   "source": [
    "# 첫번쨰 실습"
   ]
  },
  {
   "cell_type": "code",
   "execution_count": 19,
   "id": "1800c217",
   "metadata": {},
   "outputs": [
    {
     "name": "stdout",
     "output_type": "stream",
     "text": [
      "4 5\n",
      "9\n"
     ]
    }
   ],
   "source": [
    "def adder(num1, num2):\n",
    "    print(num1, num2)\n",
    "    return num1 + num2\n",
    "\n",
    "print(adder(4, 5))"
   ]
  },
  {
   "cell_type": "code",
   "execution_count": 23,
   "id": "b37ab4a0",
   "metadata": {},
   "outputs": [
    {
     "name": "stdout",
     "output_type": "stream",
     "text": [
      "445\n"
     ]
    }
   ],
   "source": [
    "def fn(x):\n",
    "    calc = x**2+2*x + 5\n",
    "    return calc\n",
    "    \n",
    "calc = fn(20)\n",
    "print(calc)"
   ]
  },
  {
   "cell_type": "code",
   "execution_count": 25,
   "id": "9bdc5cf7",
   "metadata": {},
   "outputs": [
    {
     "data": {
      "text/plain": [
       "1.4142135623730951"
      ]
     },
     "execution_count": 25,
     "metadata": {},
     "output_type": "execute_result"
    }
   ],
   "source": [
    "import math\n",
    "math.sqrt(2)"
   ]
  },
  {
   "cell_type": "code",
   "execution_count": 29,
   "id": "0a19a309",
   "metadata": {},
   "outputs": [
    {
     "name": "stdout",
     "output_type": "stream",
     "text": [
      "1.4142135623730951\n",
      "44.99999999999999\n"
     ]
    }
   ],
   "source": [
    "import math\n",
    "\n",
    "width, height = (1, 1)\n",
    "\n",
    "def fn(width, height):\n",
    "    # width = 3, height=4\n",
    "    \n",
    "    빗변 = math.sqrt(width**2 + height**2)\n",
    "    radian = math.asin(height/빗변)\n",
    "    \n",
    "    return (빗변, radian)\n",
    "\n",
    "_p, _r = fn(width, height) #fn(3, 4)\n",
    "print(_p)\n",
    "print(_r/math.pi*180)"
   ]
  },
  {
   "cell_type": "code",
   "execution_count": 31,
   "id": "973ca088",
   "metadata": {},
   "outputs": [
    {
     "name": "stdout",
     "output_type": "stream",
     "text": [
      "0.4999999999999999\n"
     ]
    }
   ],
   "source": [
    "def su_1(n1, n2):\n",
    "    return ((n1**math.sqrt(n2))*(n1+2))**(math.sqrt(n2)-n1)\n",
    "\n",
    "print(su_1(2, 3))"
   ]
  },
  {
   "cell_type": "code",
   "execution_count": 38,
   "id": "560014ce",
   "metadata": {},
   "outputs": [
    {
     "data": {
      "text/plain": [
       "(2.0, 2.0)"
      ]
     },
     "execution_count": 38,
     "metadata": {},
     "output_type": "execute_result"
    }
   ],
   "source": [
    "# 근의 공식 만들기\n",
    "# a*x^2 + b*x + c\n",
    "\n",
    "def problem1(a, b, c):\n",
    "    cal1 = -b + math.sqrt(b**2 -4*a*c) \n",
    "    cal2 = -b - math.sqrt(b**2 -4*a*c)\n",
    "    return cal1/2*a, cal2/2*a\n",
    "\n",
    "problem1(1, -4, 4)"
   ]
  },
  {
   "cell_type": "code",
   "execution_count": null,
   "id": "fd21dab4",
   "metadata": {},
   "outputs": [],
   "source": []
  }
 ],
 "metadata": {
  "kernelspec": {
   "display_name": "venv",
   "language": "python",
   "name": "python3"
  },
  "language_info": {
   "codemirror_mode": {
    "name": "ipython",
    "version": 3
   },
   "file_extension": ".py",
   "mimetype": "text/x-python",
   "name": "python",
   "nbconvert_exporter": "python",
   "pygments_lexer": "ipython3",
   "version": "3.10.11"
  }
 },
 "nbformat": 4,
 "nbformat_minor": 5
}
